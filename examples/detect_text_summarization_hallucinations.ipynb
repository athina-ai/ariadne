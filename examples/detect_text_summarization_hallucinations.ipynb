{
 "cells": [
  {
   "cell_type": "code",
   "execution_count": 23,
   "metadata": {},
   "outputs": [
    {
     "name": "stdout",
     "output_type": "stream",
     "text": [
      "Requirement already satisfied: ariadne-ai in /Users/christosziakas/.pyenv/versions/3.9.7/lib/python3.9/site-packages (0.1.4)\n",
      "Requirement already satisfied: openai<0.29.0,>=0.28.0 in /Users/christosziakas/.pyenv/versions/3.9.7/lib/python3.9/site-packages (from ariadne-ai) (0.28.0)\n",
      "Requirement already satisfied: datasets<3.0.0,>=2.14.5 in /Users/christosziakas/.pyenv/versions/3.9.7/lib/python3.9/site-packages (from ariadne-ai) (2.14.5)\n",
      "Requirement already satisfied: pandas<3.0.0,>=2.1.0 in /Users/christosziakas/.pyenv/versions/3.9.7/lib/python3.9/site-packages (from ariadne-ai) (2.1.0)\n",
      "Requirement already satisfied: scikit-learn<2.0.0,>=1.3.0 in /Users/christosziakas/.pyenv/versions/3.9.7/lib/python3.9/site-packages (from ariadne-ai) (1.3.0)\n",
      "Requirement already satisfied: python-dotenv<2.0.0,>=1.0.0 in /Users/christosziakas/.pyenv/versions/3.9.7/lib/python3.9/site-packages (from ariadne-ai) (1.0.0)\n",
      "Requirement already satisfied: xxhash in /Users/christosziakas/.pyenv/versions/3.9.7/lib/python3.9/site-packages (from datasets<3.0.0,>=2.14.5->ariadne-ai) (3.3.0)\n",
      "Requirement already satisfied: tqdm>=4.62.1 in /Users/christosziakas/.pyenv/versions/3.9.7/lib/python3.9/site-packages (from datasets<3.0.0,>=2.14.5->ariadne-ai) (4.66.1)\n",
      "Requirement already satisfied: pyyaml>=5.1 in /Users/christosziakas/.pyenv/versions/3.9.7/lib/python3.9/site-packages (from datasets<3.0.0,>=2.14.5->ariadne-ai) (6.0)\n",
      "Requirement already satisfied: multiprocess in /Users/christosziakas/.pyenv/versions/3.9.7/lib/python3.9/site-packages (from datasets<3.0.0,>=2.14.5->ariadne-ai) (0.70.15)\n",
      "Requirement already satisfied: fsspec[http]<2023.9.0,>=2023.1.0 in /Users/christosziakas/.pyenv/versions/3.9.7/lib/python3.9/site-packages (from datasets<3.0.0,>=2.14.5->ariadne-ai) (2023.6.0)\n",
      "Requirement already satisfied: requests>=2.19.0 in /Users/christosziakas/.pyenv/versions/3.9.7/lib/python3.9/site-packages (from datasets<3.0.0,>=2.14.5->ariadne-ai) (2.31.0)\n",
      "Requirement already satisfied: aiohttp in /Users/christosziakas/.pyenv/versions/3.9.7/lib/python3.9/site-packages (from datasets<3.0.0,>=2.14.5->ariadne-ai) (3.8.5)\n",
      "Requirement already satisfied: numpy>=1.17 in /Users/christosziakas/.pyenv/versions/3.9.7/lib/python3.9/site-packages (from datasets<3.0.0,>=2.14.5->ariadne-ai) (1.25.0)\n",
      "Requirement already satisfied: huggingface-hub<1.0.0,>=0.14.0 in /Users/christosziakas/.pyenv/versions/3.9.7/lib/python3.9/site-packages (from datasets<3.0.0,>=2.14.5->ariadne-ai) (0.15.1)\n",
      "Requirement already satisfied: packaging in /Users/christosziakas/.pyenv/versions/3.9.7/lib/python3.9/site-packages (from datasets<3.0.0,>=2.14.5->ariadne-ai) (23.1)\n",
      "Requirement already satisfied: pyarrow>=8.0.0 in /Users/christosziakas/.pyenv/versions/3.9.7/lib/python3.9/site-packages (from datasets<3.0.0,>=2.14.5->ariadne-ai) (13.0.0)\n",
      "Requirement already satisfied: dill<0.3.8,>=0.3.0 in /Users/christosziakas/.pyenv/versions/3.9.7/lib/python3.9/site-packages (from datasets<3.0.0,>=2.14.5->ariadne-ai) (0.3.7)\n",
      "Requirement already satisfied: yarl<2.0,>=1.0 in /Users/christosziakas/.pyenv/versions/3.9.7/lib/python3.9/site-packages (from aiohttp->datasets<3.0.0,>=2.14.5->ariadne-ai) (1.9.2)\n",
      "Requirement already satisfied: frozenlist>=1.1.1 in /Users/christosziakas/.pyenv/versions/3.9.7/lib/python3.9/site-packages (from aiohttp->datasets<3.0.0,>=2.14.5->ariadne-ai) (1.4.0)\n",
      "Requirement already satisfied: charset-normalizer<4.0,>=2.0 in /Users/christosziakas/.pyenv/versions/3.9.7/lib/python3.9/site-packages (from aiohttp->datasets<3.0.0,>=2.14.5->ariadne-ai) (3.2.0)\n",
      "Requirement already satisfied: aiosignal>=1.1.2 in /Users/christosziakas/.pyenv/versions/3.9.7/lib/python3.9/site-packages (from aiohttp->datasets<3.0.0,>=2.14.5->ariadne-ai) (1.3.1)\n",
      "Requirement already satisfied: attrs>=17.3.0 in /Users/christosziakas/.pyenv/versions/3.9.7/lib/python3.9/site-packages (from aiohttp->datasets<3.0.0,>=2.14.5->ariadne-ai) (23.1.0)\n",
      "Requirement already satisfied: async-timeout<5.0,>=4.0.0a3 in /Users/christosziakas/.pyenv/versions/3.9.7/lib/python3.9/site-packages (from aiohttp->datasets<3.0.0,>=2.14.5->ariadne-ai) (4.0.3)\n",
      "Requirement already satisfied: multidict<7.0,>=4.5 in /Users/christosziakas/.pyenv/versions/3.9.7/lib/python3.9/site-packages (from aiohttp->datasets<3.0.0,>=2.14.5->ariadne-ai) (6.0.4)\n",
      "Requirement already satisfied: filelock in /Users/christosziakas/.pyenv/versions/3.9.7/lib/python3.9/site-packages (from huggingface-hub<1.0.0,>=0.14.0->datasets<3.0.0,>=2.14.5->ariadne-ai) (3.12.2)\n",
      "Requirement already satisfied: typing-extensions>=3.7.4.3 in /Users/christosziakas/.pyenv/versions/3.9.7/lib/python3.9/site-packages (from huggingface-hub<1.0.0,>=0.14.0->datasets<3.0.0,>=2.14.5->ariadne-ai) (4.6.3)\n",
      "Requirement already satisfied: pytz>=2020.1 in /Users/christosziakas/.pyenv/versions/3.9.7/lib/python3.9/site-packages (from pandas<3.0.0,>=2.1.0->ariadne-ai) (2023.3)\n",
      "Requirement already satisfied: tzdata>=2022.1 in /Users/christosziakas/.pyenv/versions/3.9.7/lib/python3.9/site-packages (from pandas<3.0.0,>=2.1.0->ariadne-ai) (2023.3)\n",
      "Requirement already satisfied: python-dateutil>=2.8.2 in /Users/christosziakas/.pyenv/versions/3.9.7/lib/python3.9/site-packages (from pandas<3.0.0,>=2.1.0->ariadne-ai) (2.8.2)\n",
      "Requirement already satisfied: six>=1.5 in /Users/christosziakas/.pyenv/versions/3.9.7/lib/python3.9/site-packages (from python-dateutil>=2.8.2->pandas<3.0.0,>=2.1.0->ariadne-ai) (1.16.0)\n",
      "Requirement already satisfied: urllib3<3,>=1.21.1 in /Users/christosziakas/.pyenv/versions/3.9.7/lib/python3.9/site-packages (from requests>=2.19.0->datasets<3.0.0,>=2.14.5->ariadne-ai) (2.0.4)\n",
      "Requirement already satisfied: idna<4,>=2.5 in /Users/christosziakas/.pyenv/versions/3.9.7/lib/python3.9/site-packages (from requests>=2.19.0->datasets<3.0.0,>=2.14.5->ariadne-ai) (3.4)\n",
      "Requirement already satisfied: certifi>=2017.4.17 in /Users/christosziakas/.pyenv/versions/3.9.7/lib/python3.9/site-packages (from requests>=2.19.0->datasets<3.0.0,>=2.14.5->ariadne-ai) (2023.7.22)\n",
      "Requirement already satisfied: joblib>=1.1.1 in /Users/christosziakas/.pyenv/versions/3.9.7/lib/python3.9/site-packages (from scikit-learn<2.0.0,>=1.3.0->ariadne-ai) (1.3.2)\n",
      "Requirement already satisfied: scipy>=1.5.0 in /Users/christosziakas/.pyenv/versions/3.9.7/lib/python3.9/site-packages (from scikit-learn<2.0.0,>=1.3.0->ariadne-ai) (1.11.2)\n",
      "Requirement already satisfied: threadpoolctl>=2.0.0 in /Users/christosziakas/.pyenv/versions/3.9.7/lib/python3.9/site-packages (from scikit-learn<2.0.0,>=1.3.0->ariadne-ai) (3.2.0)\n",
      "\u001b[33mWARNING: You are using pip version 21.2.3; however, version 23.2.1 is available.\n",
      "You should consider upgrading via the '/Users/christosziakas/.pyenv/versions/3.9.7/bin/python3.9 -m pip install --upgrade pip' command.\u001b[0m\n"
     ]
    }
   ],
   "source": [
    "!pip install ariadne-ai"
   ]
  },
  {
   "cell_type": "code",
   "execution_count": 25,
   "metadata": {},
   "outputs": [],
   "source": [
    "\n",
    "from ariadne_ai.loaders.summarization_loader import SummarizationLoader\n",
    "from ariadne_ai.evaluators.text_summarization.hallucination_evaluator import HallucinationEvaluator\n"
   ]
  },
  {
   "attachments": {},
   "cell_type": "markdown",
   "metadata": {},
   "source": [
    "# Load datasets and set up parameters"
   ]
  },
  {
   "cell_type": "code",
   "execution_count": 26,
   "metadata": {},
   "outputs": [],
   "source": [
    "# Define the input and output filepath\n",
    "input_filepath = '../data/text_summarization/xsum_sample.json'\n",
    "log_filepath = '../data/logs/logs_xsum_sample.json'\n",
    "perf_filepath = '../data/logs/perf_xsum_sample.json'\n",
    "\n",
    "# Define your openai key\n",
    "open_ai_key =  None\n"
   ]
  },
  {
   "attachments": {},
   "cell_type": "markdown",
   "metadata": {},
   "source": [
    "# Initialize data loader for text summarization"
   ]
  },
  {
   "cell_type": "code",
   "execution_count": 27,
   "metadata": {},
   "outputs": [],
   "source": [
    "# Initialize a summarization loader \n",
    "loader = SummarizationLoader(\n",
    "    col_document='document', \n",
    "    col_summary='summary', \n",
    "    col_label='hallucination_type',\n",
    "    col_comment='hallucinated_span'\n",
    ")\n",
    "# Load data from the specified JSON file\n",
    "loader.load(input_filepath)"
   ]
  },
  {
   "attachments": {},
   "cell_type": "markdown",
   "metadata": {},
   "source": [
    "# Run the evaluator for hallucination in text summarization"
   ]
  },
  {
   "cell_type": "code",
   "execution_count": 28,
   "metadata": {},
   "outputs": [
    {
     "data": {
      "text/plain": [
       "[{'document': 'Cuadrilla, the firm behind the tests, said drilling had been suspended as a precaution after the 1.5 magnitude tremor - the second in two months.\\nIt will now examine the data collected by the British Geological Survey (BGS) before deciding whether to resume.\\nA tremor centred on Poulton-le-Fylde on 1 April shared a \"similar location and mechanism\", the BSG said.\\nShale gas drilling, known as \"fracking\", involves shattering hard shale rocks underground to release gas using either hydraulic pressure or tiny explosions.\\nMark Miller, chief executive of Cuadrilla Resources, said: \"We take our responsibilities very seriously and that is why we have stopped fracking operations to share information and consult with the relevant authorities and other experts.\\n\"We expect that this analysis and subsequent consultation will take a number of weeks to conclude and we will decide on appropriate actions after that.\"\\nThe process has proved controversial in the US with environmentalists alleging that shale gas leaking into their drinking supply could cause tap water to ignite.\\nBut earlier this month the Commons energy select committee called on ministers to support the process in the UK arguing that environmental problems associated with it in the US could be overcome by tight regulation and good industry practice.\\nThe BGS said it was also monitoring fracking as a precaution. There have been two small earthquakes in Lancashire since fracking began in the county in March, including the latest on Friday.\\nIn an analysis of the April quake published on its website the BGS said: \"Any process that injects pressurised water into rocks at depth will cause the rock to fracture and possibly produce earthquakes.\\n\"It is well known that injection of water or other fluids during the oil extraction and geothermal engineering, such as Shale gas, processes can result in earthquake activity.\"\\nThe BGS said the April tremor took place 1.2 miles (2km) away from the drilling site but said its monitoring instruments were 50 miles (80km) away.\\nSpeaking about the latest quake, Dr Brian Baptie, head of seismology at the BGS, said: \"The earthquake was felt by at least one person in Poulton-Le-Fylde.\\n\"Our analysis places the epicentre of the event to within 2km of the Preese Hall site.\\n\"Data from two temporary instruments close to the drill site, installed after the magnitude 2.3 earthquake on 1 April, indicate that the event occurred at a depth of approximately 2km (1.2 miles).\\n\"The recorded waveforms are very similar to those from the magnitude 2.3 event last month, which suggests that the two events share a similar location and mechanism.\"',\n",
       "  'summary': 'a fracking operation in lancashire has been suspended after a gas leak was found at the site.',\n",
       "  'questions': {'question 1': 'Was a fracking operation in Lancashire suspended?',\n",
       "   'question 2': 'Was a gas leak found at the fracking site in Lancashire?',\n",
       "   'question 3': 'Is the fracking operation still ongoing in Lancashire?',\n",
       "   'question 4': 'Was the gas leak the reason for the suspension of the fracking operation?',\n",
       "   'question 5': 'Has the gas leak been resolved at the fracking site in Lancashire?'},\n",
       "  'answers_doc': {'question 1': 'Yes',\n",
       "   'question 2': 'Unknown',\n",
       "   'question 3': 'Unknown',\n",
       "   'question 4': 'Unknown',\n",
       "   'question 5': 'Unknown'},\n",
       "  'answers_sum': {'question 1': 'Yes',\n",
       "   'question 2': 'Yes',\n",
       "   'question 3': 'No',\n",
       "   'question 4': 'Yes',\n",
       "   'question 5': 'Unknown'},\n",
       "  'label': nan,\n",
       "  'hallucination_failure': 1,\n",
       "  'reason_hallucination_failure': ['Was a gas leak found at the fracking site in Lancashire?',\n",
       "   'Is the fracking operation still ongoing in Lancashire?',\n",
       "   'Was the gas leak the reason for the suspension of the fracking operation?'],\n",
       "  'contradiction_failure': 0,\n",
       "  'reason_contradiction_failure': [],\n",
       "  'agreement_score': 0.4,\n",
       "  'reason_agreement_score': ['Was a fracking operation in Lancashire suspended?',\n",
       "   'Has the gas leak been resolved at the fracking site in Lancashire?']},\n",
       " {'document': \"Tries from Macgraff Leuluai, Ah Van and Chris Bridge gave Widnes a 14-6 half-time lead, with Cas loanee Paddy Flynn responding against his parent club.\\nFlynn scored another early in the second, but Ah Van, Lloyd White (2) and Joe Mellor tries made it 38-12.\\nDespite three Cas tries in four minutes - Larne Patrick, Luke Gale and Flynn's hat-trick score - Widnes held on.\\nThe Vikings' victory had looked assured when Mellor took advantage of Castleford indecision on a short kick-off, running straight through to help them to a 26-point lead.\\nBut, having lost nine of their previous 10 matches, their defence creaked as they let Patrick, who has just signed a three-year deal to move from Huddersfield after his loan spell, in for a try.\\nGale and Flynn - on loan at Castleford from the Vikings until the end of the season - made it a nervy finish, but the Tigers suffered their fourth consecutive home league defeat.\\nWidnes moved above Wakefield into seventh, while Castleford remain in sixth, one point above the Vikings.\\nCastleford: Solomona, Monaghan, Crooks, Webster, Flynn, McShane, Gale, Jewitt, Milner, Patrick, Moors, McMeeken, Massey.\\nReplacements: Millington, Springer, Tickle, Cook.\\nWidnes: Hanbury, Thompson, Runciman, Bridge, Ah Van, Mellor,Brown, Cahill, White, Buchanan, Whitley, Dean, Leuluai.\\nReplacements: J. Chapelhow, Manuokafoa, Walker, Heremaia.\\nReferee: J Smith\",\n",
       "  'summary': 'widnes suffered their first defeat of the season as widnes won at home to widnes.',\n",
       "  'questions': {'question 1': 'Did Widnes suffer their first defeat of the season?',\n",
       "   'question 2': 'Did Widnes win at home?',\n",
       "   'question 3': 'Did Widnes win against Widnes?',\n",
       "   'question 4': 'Did Widnes win their first game of the season?',\n",
       "   'question 5': 'Did Widnes suffer any defeats before this game?'},\n",
       "  'answers_doc': {'question 1': 'No',\n",
       "   'question 2': 'Yes',\n",
       "   'question 3': 'No',\n",
       "   'question 4': 'No',\n",
       "   'question 5': 'Yes'},\n",
       "  'answers_sum': {'question 1': 'Yes',\n",
       "   'question 2': 'Yes',\n",
       "   'question 3': 'No',\n",
       "   'question 4': 'No',\n",
       "   'question 5': 'Unknown'},\n",
       "  'label': 'intrinsic',\n",
       "  'hallucination_failure': 0,\n",
       "  'reason_hallucination_failure': [],\n",
       "  'contradiction_failure': 1,\n",
       "  'reason_contradiction_failure': ['Did Widnes suffer their first defeat of the season?',\n",
       "   'Did Widnes suffer any defeats before this game?'],\n",
       "  'agreement_score': 0.6,\n",
       "  'reason_agreement_score': ['Did Widnes win at home?',\n",
       "   'Did Widnes win against Widnes?',\n",
       "   'Did Widnes win their first game of the season?']},\n",
       " {'document': \"More than 20 competitors are due to take part in Saturday's event in Carrbridge in the Cairngorms.\\nCarvers from Scotland, England, Ireland as well as continental Europe, Canada and the US regularly enter the competition.\\nThey can use only chainsaws - any other carving tool is banned - to carve logs into the shapes of animals and people.\\nLast year's winner Pete Bowsher, from Moffat, is to return to defend the title, and retain the first place winner's prize the Claymore Trophy.\",\n",
       "  'summary': \"this year\\\\'s northern ireland car championships will take place at this year\\\\'s ballymena festival.\",\n",
       "  'questions': {'question 1': \"Will the northern ireland car championships take place at this year's ballymena festival?\",\n",
       "   'question 2': \"Is this year's ballymena festival hosting the northern ireland car championships?\",\n",
       "   'question 3': 'Are the northern ireland car championships happening in northern ireland this year?',\n",
       "   'question 4': 'Is the ballymena festival happening this year?',\n",
       "   'question 5': 'Will the ballymena festival host any car championships this year?'},\n",
       "  'answers_doc': {'question 1': 'No',\n",
       "   'question 2': 'No',\n",
       "   'question 3': 'Unknown',\n",
       "   'question 4': 'Unknown',\n",
       "   'question 5': 'Unknown'},\n",
       "  'answers_sum': {'question 1': 'Yes',\n",
       "   'question 2': 'Yes',\n",
       "   'question 3': 'Yes',\n",
       "   'question 4': 'Unknown',\n",
       "   'question 5': 'Yes'},\n",
       "  'label': 'extrinsic',\n",
       "  'hallucination_failure': 1,\n",
       "  'reason_hallucination_failure': ['Are the northern ireland car championships happening in northern ireland this year?',\n",
       "   'Will the ballymena festival host any car championships this year?'],\n",
       "  'contradiction_failure': 1,\n",
       "  'reason_contradiction_failure': [\"Will the northern ireland car championships take place at this year's ballymena festival?\",\n",
       "   \"Is this year's ballymena festival hosting the northern ireland car championships?\"],\n",
       "  'agreement_score': 0.2,\n",
       "  'reason_agreement_score': ['Is the ballymena festival happening this year?']}]"
      ]
     },
     "execution_count": 28,
     "metadata": {},
     "output_type": "execute_result"
    }
   ],
   "source": [
    "# Create an evaluator object using the loaded data\n",
    "evaluator = HallucinationEvaluator(\n",
    "        loader,\n",
    "        log_filepath= log_filepath,\n",
    "        llm_model= 'gpt-3.5-turbo',\n",
    "        performance_filepath=perf_filepath,\n",
    "        open_ai_key= open_ai_key,\n",
    "        n_questions=5\n",
    "    )\n",
    "# Run the evaluation\n",
    "evaluator.run()"
   ]
  }
 ],
 "metadata": {
  "kernelspec": {
   "display_name": "Python 3",
   "language": "python",
   "name": "python3"
  },
  "language_info": {
   "codemirror_mode": {
    "name": "ipython",
    "version": 3
   },
   "file_extension": ".py",
   "mimetype": "text/x-python",
   "name": "python",
   "nbconvert_exporter": "python",
   "pygments_lexer": "ipython3",
   "version": "3.9.7"
  },
  "orig_nbformat": 4
 },
 "nbformat": 4,
 "nbformat_minor": 2
}
