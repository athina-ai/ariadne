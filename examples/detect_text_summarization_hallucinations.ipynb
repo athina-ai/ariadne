{
 "cells": [
  {
   "cell_type": "code",
   "execution_count": 1,
   "metadata": {},
   "outputs": [
    {
     "name": "stdout",
     "output_type": "stream",
     "text": [
      "Requirement already satisfied: ariadne-ai in /Users/christosziakas/.pyenv/versions/3.9.7/lib/python3.9/site-packages (0.1.3)\n",
      "Requirement already satisfied: openai<0.29.0,>=0.28.0 in /Users/christosziakas/.pyenv/versions/3.9.7/lib/python3.9/site-packages (from ariadne-ai) (0.28.0)\n",
      "Requirement already satisfied: scikit-learn<2.0.0,>=1.3.0 in /Users/christosziakas/.pyenv/versions/3.9.7/lib/python3.9/site-packages (from ariadne-ai) (1.3.0)\n",
      "Requirement already satisfied: python-dotenv<2.0.0,>=1.0.0 in /Users/christosziakas/.pyenv/versions/3.9.7/lib/python3.9/site-packages (from ariadne-ai) (1.0.0)\n",
      "Requirement already satisfied: datasets<3.0.0,>=2.14.5 in /Users/christosziakas/.pyenv/versions/3.9.7/lib/python3.9/site-packages (from ariadne-ai) (2.14.5)\n",
      "Requirement already satisfied: pandas<3.0.0,>=2.1.0 in /Users/christosziakas/.pyenv/versions/3.9.7/lib/python3.9/site-packages (from ariadne-ai) (2.1.0)\n",
      "Requirement already satisfied: packaging in /Users/christosziakas/.pyenv/versions/3.9.7/lib/python3.9/site-packages (from datasets<3.0.0,>=2.14.5->ariadne-ai) (23.1)\n",
      "Requirement already satisfied: pyyaml>=5.1 in /Users/christosziakas/.pyenv/versions/3.9.7/lib/python3.9/site-packages (from datasets<3.0.0,>=2.14.5->ariadne-ai) (6.0)\n",
      "Requirement already satisfied: fsspec[http]<2023.9.0,>=2023.1.0 in /Users/christosziakas/.pyenv/versions/3.9.7/lib/python3.9/site-packages (from datasets<3.0.0,>=2.14.5->ariadne-ai) (2023.6.0)\n",
      "Requirement already satisfied: multiprocess in /Users/christosziakas/.pyenv/versions/3.9.7/lib/python3.9/site-packages (from datasets<3.0.0,>=2.14.5->ariadne-ai) (0.70.15)\n",
      "Requirement already satisfied: xxhash in /Users/christosziakas/.pyenv/versions/3.9.7/lib/python3.9/site-packages (from datasets<3.0.0,>=2.14.5->ariadne-ai) (3.3.0)\n",
      "Requirement already satisfied: tqdm>=4.62.1 in /Users/christosziakas/.pyenv/versions/3.9.7/lib/python3.9/site-packages (from datasets<3.0.0,>=2.14.5->ariadne-ai) (4.66.1)\n",
      "Requirement already satisfied: numpy>=1.17 in /Users/christosziakas/.pyenv/versions/3.9.7/lib/python3.9/site-packages (from datasets<3.0.0,>=2.14.5->ariadne-ai) (1.25.0)\n",
      "Requirement already satisfied: huggingface-hub<1.0.0,>=0.14.0 in /Users/christosziakas/.pyenv/versions/3.9.7/lib/python3.9/site-packages (from datasets<3.0.0,>=2.14.5->ariadne-ai) (0.15.1)\n",
      "Requirement already satisfied: dill<0.3.8,>=0.3.0 in /Users/christosziakas/.pyenv/versions/3.9.7/lib/python3.9/site-packages (from datasets<3.0.0,>=2.14.5->ariadne-ai) (0.3.7)\n",
      "Requirement already satisfied: aiohttp in /Users/christosziakas/.pyenv/versions/3.9.7/lib/python3.9/site-packages (from datasets<3.0.0,>=2.14.5->ariadne-ai) (3.8.5)\n",
      "Requirement already satisfied: pyarrow>=8.0.0 in /Users/christosziakas/.pyenv/versions/3.9.7/lib/python3.9/site-packages (from datasets<3.0.0,>=2.14.5->ariadne-ai) (13.0.0)\n",
      "Requirement already satisfied: requests>=2.19.0 in /Users/christosziakas/.pyenv/versions/3.9.7/lib/python3.9/site-packages (from datasets<3.0.0,>=2.14.5->ariadne-ai) (2.31.0)\n",
      "Requirement already satisfied: yarl<2.0,>=1.0 in /Users/christosziakas/.pyenv/versions/3.9.7/lib/python3.9/site-packages (from aiohttp->datasets<3.0.0,>=2.14.5->ariadne-ai) (1.9.2)\n",
      "Requirement already satisfied: charset-normalizer<4.0,>=2.0 in /Users/christosziakas/.pyenv/versions/3.9.7/lib/python3.9/site-packages (from aiohttp->datasets<3.0.0,>=2.14.5->ariadne-ai) (3.2.0)\n",
      "Requirement already satisfied: aiosignal>=1.1.2 in /Users/christosziakas/.pyenv/versions/3.9.7/lib/python3.9/site-packages (from aiohttp->datasets<3.0.0,>=2.14.5->ariadne-ai) (1.3.1)\n",
      "Requirement already satisfied: async-timeout<5.0,>=4.0.0a3 in /Users/christosziakas/.pyenv/versions/3.9.7/lib/python3.9/site-packages (from aiohttp->datasets<3.0.0,>=2.14.5->ariadne-ai) (4.0.3)\n",
      "Requirement already satisfied: frozenlist>=1.1.1 in /Users/christosziakas/.pyenv/versions/3.9.7/lib/python3.9/site-packages (from aiohttp->datasets<3.0.0,>=2.14.5->ariadne-ai) (1.4.0)\n",
      "Requirement already satisfied: multidict<7.0,>=4.5 in /Users/christosziakas/.pyenv/versions/3.9.7/lib/python3.9/site-packages (from aiohttp->datasets<3.0.0,>=2.14.5->ariadne-ai) (6.0.4)\n",
      "Requirement already satisfied: attrs>=17.3.0 in /Users/christosziakas/.pyenv/versions/3.9.7/lib/python3.9/site-packages (from aiohttp->datasets<3.0.0,>=2.14.5->ariadne-ai) (23.1.0)\n",
      "Requirement already satisfied: filelock in /Users/christosziakas/.pyenv/versions/3.9.7/lib/python3.9/site-packages (from huggingface-hub<1.0.0,>=0.14.0->datasets<3.0.0,>=2.14.5->ariadne-ai) (3.12.2)\n",
      "Requirement already satisfied: typing-extensions>=3.7.4.3 in /Users/christosziakas/.pyenv/versions/3.9.7/lib/python3.9/site-packages (from huggingface-hub<1.0.0,>=0.14.0->datasets<3.0.0,>=2.14.5->ariadne-ai) (4.6.3)\n",
      "Requirement already satisfied: pytz>=2020.1 in /Users/christosziakas/.pyenv/versions/3.9.7/lib/python3.9/site-packages (from pandas<3.0.0,>=2.1.0->ariadne-ai) (2023.3)\n",
      "Requirement already satisfied: tzdata>=2022.1 in /Users/christosziakas/.pyenv/versions/3.9.7/lib/python3.9/site-packages (from pandas<3.0.0,>=2.1.0->ariadne-ai) (2023.3)\n",
      "Requirement already satisfied: python-dateutil>=2.8.2 in /Users/christosziakas/.pyenv/versions/3.9.7/lib/python3.9/site-packages (from pandas<3.0.0,>=2.1.0->ariadne-ai) (2.8.2)\n",
      "Requirement already satisfied: six>=1.5 in /Users/christosziakas/.pyenv/versions/3.9.7/lib/python3.9/site-packages (from python-dateutil>=2.8.2->pandas<3.0.0,>=2.1.0->ariadne-ai) (1.16.0)\n",
      "Requirement already satisfied: certifi>=2017.4.17 in /Users/christosziakas/.pyenv/versions/3.9.7/lib/python3.9/site-packages (from requests>=2.19.0->datasets<3.0.0,>=2.14.5->ariadne-ai) (2023.7.22)\n",
      "Requirement already satisfied: idna<4,>=2.5 in /Users/christosziakas/.pyenv/versions/3.9.7/lib/python3.9/site-packages (from requests>=2.19.0->datasets<3.0.0,>=2.14.5->ariadne-ai) (3.4)\n",
      "Requirement already satisfied: urllib3<3,>=1.21.1 in /Users/christosziakas/.pyenv/versions/3.9.7/lib/python3.9/site-packages (from requests>=2.19.0->datasets<3.0.0,>=2.14.5->ariadne-ai) (2.0.4)\n",
      "Requirement already satisfied: joblib>=1.1.1 in /Users/christosziakas/.pyenv/versions/3.9.7/lib/python3.9/site-packages (from scikit-learn<2.0.0,>=1.3.0->ariadne-ai) (1.3.2)\n",
      "Requirement already satisfied: threadpoolctl>=2.0.0 in /Users/christosziakas/.pyenv/versions/3.9.7/lib/python3.9/site-packages (from scikit-learn<2.0.0,>=1.3.0->ariadne-ai) (3.2.0)\n",
      "Requirement already satisfied: scipy>=1.5.0 in /Users/christosziakas/.pyenv/versions/3.9.7/lib/python3.9/site-packages (from scikit-learn<2.0.0,>=1.3.0->ariadne-ai) (1.11.2)\n",
      "\u001b[33mWARNING: You are using pip version 21.2.3; however, version 23.2.1 is available.\n",
      "You should consider upgrading via the '/Users/christosziakas/.pyenv/versions/3.9.7/bin/python3.9 -m pip install --upgrade pip' command.\u001b[0m\n"
     ]
    }
   ],
   "source": [
    "!pip install --upgrade ariadne-ai"
   ]
  },
  {
   "cell_type": "code",
   "execution_count": 2,
   "metadata": {},
   "outputs": [],
   "source": [
    "\n",
    "from ariadne_ai.loaders.summarization_loader import SummarizationLoader\n",
    "from ariadne_ai.evaluators.summarization_hallucination_evaluator import SummarizationHallucinationEvaluator\n"
   ]
  },
  {
   "cell_type": "code",
   "execution_count": 3,
   "metadata": {},
   "outputs": [],
   "source": [
    "# Define the input and output filepath\n",
    "input_filepath = '../data/text_summarization/xsum_sample.json'\n",
    "log_filepath = '../data/logs/xsum_sample.json'\n",
    "\n",
    "# Define your openai key\n",
    "open_ai_key =  None\n",
    "# Initialize a summarization loader \n",
    "text_summarization_loader = SummarizationLoader(\n",
    "    col_document='document', \n",
    "    col_summary='summary', \n",
    "    col_label='hallucination_type'\n",
    ")\n"
   ]
  },
  {
   "cell_type": "code",
   "execution_count": 4,
   "metadata": {},
   "outputs": [],
   "source": [
    "# Load data from the specified JSON file\n",
    "text_summarization_loader.load(input_filepath)\n",
    "\n",
    "# Create an evaluator object using the loaded data\n",
    "text_summarization_evaluator = SummarizationHallucinationEvaluator(text_summarization_loader, log_filepath, open_ai_key=open_ai_key)\n",
    "\n",
    "# Run the evaluation\n",
    "text_summarization_evaluator.run()"
   ]
  }
 ],
 "metadata": {
  "kernelspec": {
   "display_name": "Python 3",
   "language": "python",
   "name": "python3"
  },
  "language_info": {
   "codemirror_mode": {
    "name": "ipython",
    "version": 3
   },
   "file_extension": ".py",
   "mimetype": "text/x-python",
   "name": "python",
   "nbconvert_exporter": "python",
   "pygments_lexer": "ipython3",
   "version": "3.9.7"
  },
  "orig_nbformat": 4
 },
 "nbformat": 4,
 "nbformat_minor": 2
}
