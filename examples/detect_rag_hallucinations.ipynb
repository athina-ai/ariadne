{
 "cells": [
  {
   "cell_type": "code",
   "execution_count": 8,
   "metadata": {},
   "outputs": [
    {
     "name": "stdout",
     "output_type": "stream",
     "text": [
      "Requirement already satisfied: ariadne-ai in /Users/christosziakas/.pyenv/versions/3.9.7/lib/python3.9/site-packages (0.1.4)\n",
      "Requirement already satisfied: scikit-learn<2.0.0,>=1.3.0 in /Users/christosziakas/.pyenv/versions/3.9.7/lib/python3.9/site-packages (from ariadne-ai) (1.3.0)\n",
      "Requirement already satisfied: python-dotenv<2.0.0,>=1.0.0 in /Users/christosziakas/.pyenv/versions/3.9.7/lib/python3.9/site-packages (from ariadne-ai) (1.0.0)\n",
      "Requirement already satisfied: datasets<3.0.0,>=2.14.5 in /Users/christosziakas/.pyenv/versions/3.9.7/lib/python3.9/site-packages (from ariadne-ai) (2.14.5)\n",
      "Requirement already satisfied: pandas<3.0.0,>=2.1.0 in /Users/christosziakas/.pyenv/versions/3.9.7/lib/python3.9/site-packages (from ariadne-ai) (2.1.0)\n",
      "Requirement already satisfied: openai<0.29.0,>=0.28.0 in /Users/christosziakas/.pyenv/versions/3.9.7/lib/python3.9/site-packages (from ariadne-ai) (0.28.0)\n",
      "Requirement already satisfied: dill<0.3.8,>=0.3.0 in /Users/christosziakas/.pyenv/versions/3.9.7/lib/python3.9/site-packages (from datasets<3.0.0,>=2.14.5->ariadne-ai) (0.3.7)\n",
      "Requirement already satisfied: aiohttp in /Users/christosziakas/.pyenv/versions/3.9.7/lib/python3.9/site-packages (from datasets<3.0.0,>=2.14.5->ariadne-ai) (3.8.5)\n",
      "Requirement already satisfied: huggingface-hub<1.0.0,>=0.14.0 in /Users/christosziakas/.pyenv/versions/3.9.7/lib/python3.9/site-packages (from datasets<3.0.0,>=2.14.5->ariadne-ai) (0.15.1)\n",
      "Requirement already satisfied: pyyaml>=5.1 in /Users/christosziakas/.pyenv/versions/3.9.7/lib/python3.9/site-packages (from datasets<3.0.0,>=2.14.5->ariadne-ai) (6.0)\n",
      "Requirement already satisfied: pyarrow>=8.0.0 in /Users/christosziakas/.pyenv/versions/3.9.7/lib/python3.9/site-packages (from datasets<3.0.0,>=2.14.5->ariadne-ai) (13.0.0)\n",
      "Requirement already satisfied: multiprocess in /Users/christosziakas/.pyenv/versions/3.9.7/lib/python3.9/site-packages (from datasets<3.0.0,>=2.14.5->ariadne-ai) (0.70.15)\n",
      "Requirement already satisfied: tqdm>=4.62.1 in /Users/christosziakas/.pyenv/versions/3.9.7/lib/python3.9/site-packages (from datasets<3.0.0,>=2.14.5->ariadne-ai) (4.66.1)\n",
      "Requirement already satisfied: fsspec[http]<2023.9.0,>=2023.1.0 in /Users/christosziakas/.pyenv/versions/3.9.7/lib/python3.9/site-packages (from datasets<3.0.0,>=2.14.5->ariadne-ai) (2023.6.0)\n",
      "Requirement already satisfied: requests>=2.19.0 in /Users/christosziakas/.pyenv/versions/3.9.7/lib/python3.9/site-packages (from datasets<3.0.0,>=2.14.5->ariadne-ai) (2.31.0)\n",
      "Requirement already satisfied: packaging in /Users/christosziakas/.pyenv/versions/3.9.7/lib/python3.9/site-packages (from datasets<3.0.0,>=2.14.5->ariadne-ai) (23.1)\n",
      "Requirement already satisfied: xxhash in /Users/christosziakas/.pyenv/versions/3.9.7/lib/python3.9/site-packages (from datasets<3.0.0,>=2.14.5->ariadne-ai) (3.3.0)\n",
      "Requirement already satisfied: numpy>=1.17 in /Users/christosziakas/.pyenv/versions/3.9.7/lib/python3.9/site-packages (from datasets<3.0.0,>=2.14.5->ariadne-ai) (1.25.0)\n",
      "Requirement already satisfied: charset-normalizer<4.0,>=2.0 in /Users/christosziakas/.pyenv/versions/3.9.7/lib/python3.9/site-packages (from aiohttp->datasets<3.0.0,>=2.14.5->ariadne-ai) (3.2.0)\n",
      "Requirement already satisfied: attrs>=17.3.0 in /Users/christosziakas/.pyenv/versions/3.9.7/lib/python3.9/site-packages (from aiohttp->datasets<3.0.0,>=2.14.5->ariadne-ai) (23.1.0)\n",
      "Requirement already satisfied: frozenlist>=1.1.1 in /Users/christosziakas/.pyenv/versions/3.9.7/lib/python3.9/site-packages (from aiohttp->datasets<3.0.0,>=2.14.5->ariadne-ai) (1.4.0)\n",
      "Requirement already satisfied: yarl<2.0,>=1.0 in /Users/christosziakas/.pyenv/versions/3.9.7/lib/python3.9/site-packages (from aiohttp->datasets<3.0.0,>=2.14.5->ariadne-ai) (1.9.2)\n",
      "Requirement already satisfied: multidict<7.0,>=4.5 in /Users/christosziakas/.pyenv/versions/3.9.7/lib/python3.9/site-packages (from aiohttp->datasets<3.0.0,>=2.14.5->ariadne-ai) (6.0.4)\n",
      "Requirement already satisfied: async-timeout<5.0,>=4.0.0a3 in /Users/christosziakas/.pyenv/versions/3.9.7/lib/python3.9/site-packages (from aiohttp->datasets<3.0.0,>=2.14.5->ariadne-ai) (4.0.3)\n",
      "Requirement already satisfied: aiosignal>=1.1.2 in /Users/christosziakas/.pyenv/versions/3.9.7/lib/python3.9/site-packages (from aiohttp->datasets<3.0.0,>=2.14.5->ariadne-ai) (1.3.1)\n",
      "Requirement already satisfied: typing-extensions>=3.7.4.3 in /Users/christosziakas/.pyenv/versions/3.9.7/lib/python3.9/site-packages (from huggingface-hub<1.0.0,>=0.14.0->datasets<3.0.0,>=2.14.5->ariadne-ai) (4.6.3)\n",
      "Requirement already satisfied: filelock in /Users/christosziakas/.pyenv/versions/3.9.7/lib/python3.9/site-packages (from huggingface-hub<1.0.0,>=0.14.0->datasets<3.0.0,>=2.14.5->ariadne-ai) (3.12.2)\n",
      "Requirement already satisfied: tzdata>=2022.1 in /Users/christosziakas/.pyenv/versions/3.9.7/lib/python3.9/site-packages (from pandas<3.0.0,>=2.1.0->ariadne-ai) (2023.3)\n",
      "Requirement already satisfied: python-dateutil>=2.8.2 in /Users/christosziakas/.pyenv/versions/3.9.7/lib/python3.9/site-packages (from pandas<3.0.0,>=2.1.0->ariadne-ai) (2.8.2)\n",
      "Requirement already satisfied: pytz>=2020.1 in /Users/christosziakas/.pyenv/versions/3.9.7/lib/python3.9/site-packages (from pandas<3.0.0,>=2.1.0->ariadne-ai) (2023.3)\n",
      "Requirement already satisfied: six>=1.5 in /Users/christosziakas/.pyenv/versions/3.9.7/lib/python3.9/site-packages (from python-dateutil>=2.8.2->pandas<3.0.0,>=2.1.0->ariadne-ai) (1.16.0)\n",
      "Requirement already satisfied: certifi>=2017.4.17 in /Users/christosziakas/.pyenv/versions/3.9.7/lib/python3.9/site-packages (from requests>=2.19.0->datasets<3.0.0,>=2.14.5->ariadne-ai) (2023.7.22)\n",
      "Requirement already satisfied: urllib3<3,>=1.21.1 in /Users/christosziakas/.pyenv/versions/3.9.7/lib/python3.9/site-packages (from requests>=2.19.0->datasets<3.0.0,>=2.14.5->ariadne-ai) (2.0.4)\n",
      "Requirement already satisfied: idna<4,>=2.5 in /Users/christosziakas/.pyenv/versions/3.9.7/lib/python3.9/site-packages (from requests>=2.19.0->datasets<3.0.0,>=2.14.5->ariadne-ai) (3.4)\n",
      "Requirement already satisfied: threadpoolctl>=2.0.0 in /Users/christosziakas/.pyenv/versions/3.9.7/lib/python3.9/site-packages (from scikit-learn<2.0.0,>=1.3.0->ariadne-ai) (3.2.0)\n",
      "Requirement already satisfied: scipy>=1.5.0 in /Users/christosziakas/.pyenv/versions/3.9.7/lib/python3.9/site-packages (from scikit-learn<2.0.0,>=1.3.0->ariadne-ai) (1.11.2)\n",
      "Requirement already satisfied: joblib>=1.1.1 in /Users/christosziakas/.pyenv/versions/3.9.7/lib/python3.9/site-packages (from scikit-learn<2.0.0,>=1.3.0->ariadne-ai) (1.3.2)\n",
      "\u001b[33mWARNING: You are using pip version 21.2.3; however, version 23.2.1 is available.\n",
      "You should consider upgrading via the '/Users/christosziakas/.pyenv/versions/3.9.7/bin/python3.9 -m pip install --upgrade pip' command.\u001b[0m\n"
     ]
    }
   ],
   "source": [
    "!pip install ariadne-ai"
   ]
  },
  {
   "cell_type": "code",
   "execution_count": 9,
   "metadata": {},
   "outputs": [],
   "source": [
    "\n",
    "from ariadne_ai.loaders.rag_loader import RagLoader\n",
    "from ariadne_ai.evaluators.rag.faithfulness_evaluator import FaithfulnessEvaluator\n"
   ]
  },
  {
   "attachments": {},
   "cell_type": "markdown",
   "metadata": {},
   "source": [
    "# Load datasets and set up parameters"
   ]
  },
  {
   "cell_type": "code",
   "execution_count": 10,
   "metadata": {},
   "outputs": [],
   "source": [
    "\n",
    "# Constants and Configurations\n",
    "\n",
    "# Path to the input file containing raw data.\n",
    "INPUT_FILEPATH = \"../data/rag/faithfulness_sample.json\"\n",
    "LOG_FILEPATH = \"../data/logs/log_rag_faith_eval.json\"\n",
    "PERF_FILEPATH = \"../data/logs/perf_rag_faith_eval.txt\"\n",
    "\n",
    "# OpenAI API key (should be kept confidential).\n",
    "OPEN_AI_KEY = None"
   ]
  },
  {
   "attachments": {},
   "cell_type": "markdown",
   "metadata": {},
   "source": [
    "# Initialize data loader for RAG use-cases\n"
   ]
  },
  {
   "cell_type": "code",
   "execution_count": 11,
   "metadata": {},
   "outputs": [],
   "source": [
    "\n",
    "loader = RagLoader(\n",
    "    col_question=\"question\",\n",
    "    col_context=\"context\",\n",
    "    col_answer=\"answer\",\n",
    "    col_label=\"label\",\n",
    ")\n",
    "\n",
    "loader.load(INPUT_FILEPATH)"
   ]
  },
  {
   "attachments": {},
   "cell_type": "markdown",
   "metadata": {},
   "source": [
    "# Run the evaluator for faithfulness in RAG"
   ]
  },
  {
   "cell_type": "code",
   "execution_count": 12,
   "metadata": {},
   "outputs": [
    {
     "data": {
      "text/plain": [
       "[{'context': ['The PSLV-C56 is the 58th mission of Indian Space Research Organisation\\'s Polar Satellite Launch Vehicle (PSLV) and the 17th flight of the PSLV-CA variant, and will be get launched from Satish Dhawan Space Centre First Launch Pad ( FLP ).\\n\\nLaunch\\nIt is Scheduled to get launched on Sunday, 30 July 2023 at 06:30 IST / 01:00 UTC from Satish Dhawan Space Centre, Sriharikota, Andhra Pradesh, India. This is a dedicated commercial mission through NSIL with DS-SAR as primary satellite and VELOX-AM as a co-passenger satellite With other 5 Satellites, All satellites from this mission belongs to Singapore.\\n\\nMission overview\\nPrimary payload: DS-SAR\\nSecondary payload: 6 Co - Passenger Satellites\\nPSLV configuration: PSLV-CA\\n\\nPSLV is an 4 Stage Rocket, It\\'s First & Third Stage Works on Solid Propulsion know as HTBP and Second & Fourth Stage Works on Liquid Hypergolic Fuel\\nPropellant: \\n\\nStage 1: Composite Solid (HTBP based)\\nStage 2: Earth Storable Liquid (UDMH + N2O4)\\nStage 3: Composite Solid (HTBP based)\\nStage 4: Earth Storable Liquid (MMH + MON3)\\n\\nReferences\\n\\nIndian Space Research, Organisation (2023-07-22). \"PSLV-C56 / DS-SAR Mission Page\". ISRO. Retrieved 2023-07-24.'],\n",
       "  'answer': 'The PSLV-C56 mission is scheduled to be launched on Sunday, 30 July 2023 at 06:30 IST / 01:00 UTC. It will be launched from the Satish Dhawan Space Centre, Sriharikota, Andhra Pradesh, India.',\n",
       "  'label': 'faithful',\n",
       "  'faithfulness_failure': 0,\n",
       "  'reason': 'The response can be inferred purely from the context provided. The context explicitly states that the PSLV-C56 mission is scheduled to be launched on Sunday, 30 July 2023 at 06:30 IST / 01:00 UTC from the Satish Dhawan Space Centre, Sriharikota, Andhra Pradesh, India.'},\n",
       " {'context': ['The PSLV-C56 is the 58th mission of Indian Space Research Organisation\\'s Polar Satellite Launch Vehicle (PSLV) and the 17th flight of the PSLV-CA variant, and will be get launched from Satish Dhawan Space Centre First Launch Pad ( FLP ).\\n\\nLaunch\\nIt is Scheduled to get launched on Sunday, 30 July 2023 at 06:30 IST / 01:00 UTC from Satish Dhawan Space Centre, Sriharikota, Andhra Pradesh, India. This is a dedicated commercial mission through NSIL with DS-SAR as primary satellite and VELOX-AM as a co-passenger satellite With other 5 Satellites, All satellites from this mission belongs to Singapore.\\n\\nMission overview\\nPrimary payload: DS-SAR\\nSecondary payload: 6 Co - Passenger Satellites\\nPSLV configuration: PSLV-CA\\n\\nPSLV is an 4 Stage Rocket, It\\'s First & Third Stage Works on Solid Propulsion know as HTBP and Second & Fourth Stage Works on Liquid Hypergolic Fuel\\nPropellant: \\n\\nStage 1: Composite Solid (HTBP based)\\nStage 2: Earth Storable Liquid (UDMH + N2O4)\\nStage 3: Composite Solid (HTBP based)\\nStage 4: Earth Storable Liquid (MMH + MON3)\\n\\nReferences\\n\\nIndian Space Research, Organisation (2023-07-22). \"PSLV-C56 / DS-SAR Mission Page\". ISRO. Retrieved 2023-07-24.',\n",
       "   \"The Indian Space Research Organisation (ISRO) is the space agency of the Government of India. It was established in 1969 with the aim of developing space technology and conducting space research. ISRO is responsible for the country's space program, which includes satellite launches, space exploration, and the development of space-related technologies.\\n\\nISRO has achieved several significant milestones over the years. It successfully launched its first satellite, Aryabhata, in 1975. Since then, it has launched numerous satellites for various purposes, including communication, weather forecasting, remote sensing, and scientific research.\\n\\nOne of ISRO's most notable achievements is the Mars Orbiter Mission, also known as Mangalyaan, which was launched in 2013. It made India the first country to successfully reach Mars on its first attempt and at a significantly lower cost compared to other Mars missions.\\n\\nISRO has also been actively involved in space exploration. It has sent missions to the Moon, such as the Chandrayaan-1 mission in 2008, which discovered water molecules on the lunar surface. ISRO is also planning future missions to explore Venus and the Sun.\\n\\nIn addition to its space exploration efforts, ISRO has been instrumental in providing satellite-based services for various applications, including communication, broadcasting, weather forecasting, disaster management, and navigation.\\n\\nISRO has a strong focus on indigenous development and has made significant contributions to the advancement of space technology in India. It has developed various launch vehicles, including the Polar Satellite Launch Vehicle (PSLV) and the Geosynchronous Satellite Launch Vehicle (GSLV), which have been used for launching both Indian and foreign satellites.\\n\\nOverall, ISRO has played a crucial role in advancing India's space capabilities and has gained recognition globally for its achievements in space research and technology.\"],\n",
       "  'answer': 'The PSLV-C56 mission is scheduled to be launched on Sunday, 30 July 2023 at 06:30 IST / 01:00 UTC. It will be launched from the Satish Dhawan Space Centre, Sriharikota, Andhra Pradesh, India.',\n",
       "  'label': 'faithful',\n",
       "  'faithfulness_failure': 0,\n",
       "  'reason': 'The response can be inferred purely from the context provided. The launch date, time, and location are explicitly mentioned in the context.'},\n",
       " {'context': ['The PSLV-C56 is the 58th mission of Indian Space Research Organisation\\'s Polar Satellite Launch Vehicle (PSLV) and the 17th flight of the PSLV-CA variant, and will be get launched from Satish Dhawan Space Centre First Launch Pad ( FLP ).\\n\\nLaunch\\nIt is Scheduled to get launched on Sunday, 30 July 2023 at 06:30 IST / 01:00 UTC from Satish Dhawan Space Centre, Sriharikota, Andhra Pradesh, India. This is a dedicated commercial mission through NSIL with DS-SAR as primary satellite and VELOX-AM as a co-passenger satellite With other 5 Satellites, All satellites from this mission belongs to Singapore.\\n\\nMission overview\\nPrimary payload: DS-SAR\\nSecondary payload: 6 Co - Passenger Satellites\\nPSLV configuration: PSLV-CA\\n\\nPSLV is an 4 Stage Rocket, It\\'s First & Third Stage Works on Solid Propulsion know as HTBP and Second & Fourth Stage Works on Liquid Hypergolic Fuel\\nPropellant: \\n\\nStage 1: Composite Solid (HTBP based)\\nStage 2: Earth Storable Liquid (UDMH + N2O4)\\nStage 3: Composite Solid (HTBP based)\\nStage 4: Earth Storable Liquid (MMH + MON3)\\n\\nReferences\\n\\nIndian Space Research, Organisation (2023-07-22). \"PSLV-C56 / DS-SAR Mission Page\". ISRO. Retrieved 2023-07-24.',\n",
       "   \"The Indian Space Research Organisation (ISRO) is the space agency of the Government of India. It was established in 1969 with the aim of developing space technology and conducting space research. ISRO is responsible for the country's space program, which includes satellite launches, space exploration, and the development of space-related technologies.\\n\\nISRO has achieved several significant milestones over the years. It successfully launched its first satellite, Aryabhata, in 1975. Since then, it has launched numerous satellites for various purposes, including communication, weather forecasting, remote sensing, and scientific research.\\n\\nOne of ISRO's most notable achievements is the Mars Orbiter Mission, also known as Mangalyaan, which was launched in 2013. It made India the first country to successfully reach Mars on its first attempt and at a significantly lower cost compared to other Mars missions.\\n\\nISRO has also been actively involved in space exploration. It has sent missions to the Moon, such as the Chandrayaan-1 mission in 2008, which discovered water molecules on the lunar surface. ISRO is also planning future missions to explore Venus and the Sun.\\n\\nIn addition to its space exploration efforts, ISRO has been instrumental in providing satellite-based services for various applications, including communication, broadcasting, weather forecasting, disaster management, and navigation.\\n\\nISRO has a strong focus on indigenous development and has made significant contributions to the advancement of space technology in India. It has developed various launch vehicles, including the Polar Satellite Launch Vehicle (PSLV) and the Geosynchronous Satellite Launch Vehicle (GSLV), which have been used for launching both Indian and foreign satellites.\\n\\nOverall, ISRO has played a crucial role in advancing India's space capabilities and has gained recognition globally for its achievements in space research and technology.\"],\n",
       "  'answer': 'The scheduled launch date for the PSLV-C56 mission is yet to be announced. The launch will take place from the Satish Dhawan Space Centre (SDSC) SHAR, located in Sriharikota, India.',\n",
       "  'label': 'unfaithful',\n",
       "  'faithfulness_failure': 1,\n",
       "  'reason': 'The response states that the scheduled launch date for the PSLV-C56 mission is yet to be announced, but the context clearly states that the launch is scheduled for Sunday, 30 July 2023 at 06:30 IST / 01:00 UTC. Therefore, the response contains information that was not provided in the context.'},\n",
       " {'context': ['The PSLV-C56 is the 58th mission of Indian Space Research Organisation\\'s Polar Satellite Launch Vehicle (PSLV) and the 17th flight of the PSLV-CA variant, and will be get launched from Satish Dhawan Space Centre First Launch Pad ( FLP ).\\n\\nLaunch\\nIt is Scheduled to get launched on Sunday, 30 July 2023 at 06:30 IST / 01:00 UTC from Satish Dhawan Space Centre, Sriharikota, Andhra Pradesh, India. This is a dedicated commercial mission through NSIL with DS-SAR as primary satellite and VELOX-AM as a co-passenger satellite With other 5 Satellites, All satellites from this mission belongs to Singapore.\\n\\nMission overview\\nPrimary payload: DS-SAR\\nSecondary payload: 6 Co - Passenger Satellites\\nPSLV configuration: PSLV-CA\\n\\nPSLV is an 4 Stage Rocket, It\\'s First & Third Stage Works on Solid Propulsion know as HTBP and Second & Fourth Stage Works on Liquid Hypergolic Fuel\\nPropellant: \\n\\nStage 1: Composite Solid (HTBP based)\\nStage 2: Earth Storable Liquid (UDMH + N2O4)\\nStage 3: Composite Solid (HTBP based)\\nStage 4: Earth Storable Liquid (MMH + MON3)\\n\\nReferences\\n\\nIndian Space Research, Organisation (2023-07-22). \"PSLV-C56 / DS-SAR Mission Page\". ISRO. Retrieved 2023-07-24.',\n",
       "   \"The Indian Space Research Organisation (ISRO) is the space agency of the Government of India. It was established in 1969 with the aim of developing space technology and conducting space research. ISRO is responsible for the country's space program, which includes satellite launches, space exploration, and the development of space-related technologies.\\n\\nISRO has achieved several significant milestones over the years. It successfully launched its first satellite, Aryabhata, in 1975. Since then, it has launched numerous satellites for various purposes, including communication, weather forecasting, remote sensing, and scientific research.\\n\\nOne of ISRO's most notable achievements is the Mars Orbiter Mission, also known as Mangalyaan, which was launched in 2013. It made India the first country to successfully reach Mars on its first attempt and at a significantly lower cost compared to other Mars missions.\\n\\nISRO has also been actively involved in space exploration. It has sent missions to the Moon, such as the Chandrayaan-1 mission in 2008, which discovered water molecules on the lunar surface. ISRO is also planning future missions to explore Venus and the Sun.\\n\\nIn addition to its space exploration efforts, ISRO has been instrumental in providing satellite-based services for various applications, including communication, broadcasting, weather forecasting, disaster management, and navigation.\\n\\nISRO has a strong focus on indigenous development and has made significant contributions to the advancement of space technology in India. It has developed various launch vehicles, including the Polar Satellite Launch Vehicle (PSLV) and the Geosynchronous Satellite Launch Vehicle (GSLV), which have been used for launching both Indian and foreign satellites.\\n\\nOverall, ISRO has played a crucial role in advancing India's space capabilities and has gained recognition globally for its achievements in space research and technology.\"],\n",
       "  'answer': 'The scheduled launch date for the PSLV-C56 mission is yet to be announced. The launch will take place from the Satish Dhawan Space Centre (SDSC) SHAR, located in Sriharikota, India.',\n",
       "  'label': 'unfaithful',\n",
       "  'faithfulness_failure': 1,\n",
       "  'reason': 'The response states that the scheduled launch date for the PSLV-C56 mission is yet to be announced, but the context clearly states that the launch is scheduled for Sunday, 30 July 2023 at 06:30 IST / 01:00 UTC. Therefore, the response contains information that was not provided in the context.'}]"
      ]
     },
     "execution_count": 12,
     "metadata": {},
     "output_type": "execute_result"
    }
   ],
   "source": [
    "evaluator = FaithfulnessEvaluator(loader)\n",
    "evaluator.run()"
   ]
  }
 ],
 "metadata": {
  "kernelspec": {
   "display_name": "Python 3",
   "language": "python",
   "name": "python3"
  },
  "language_info": {
   "codemirror_mode": {
    "name": "ipython",
    "version": 3
   },
   "file_extension": ".py",
   "mimetype": "text/x-python",
   "name": "python",
   "nbconvert_exporter": "python",
   "pygments_lexer": "ipython3",
   "version": "3.9.7"
  },
  "orig_nbformat": 4
 },
 "nbformat": 4,
 "nbformat_minor": 2
}
